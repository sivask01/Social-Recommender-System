{
 "cells": [
  {
   "cell_type": "code",
   "execution_count": 1,
   "id": "c9f62646",
   "metadata": {
    "_cell_guid": "b1076dfc-b9ad-4769-8c92-a6c4dae69d19",
    "_uuid": "8f2839f25d086af736a60e9eeb907d3b93b6e0e5",
    "execution": {
     "iopub.execute_input": "2024-11-19T19:05:31.592881Z",
     "iopub.status.busy": "2024-11-19T19:05:31.592616Z",
     "iopub.status.idle": "2024-11-19T19:05:32.341665Z",
     "shell.execute_reply": "2024-11-19T19:05:32.340832Z"
    },
    "papermill": {
     "duration": 0.759042,
     "end_time": "2024-11-19T19:05:32.343669",
     "exception": false,
     "start_time": "2024-11-19T19:05:31.584627",
     "status": "completed"
    },
    "tags": []
   },
   "outputs": [
    {
     "name": "stdout",
     "output_type": "stream",
     "text": [
      "/kaggle/input/social-recommendation-data/lthing_data/lthing_data/reviews.txt\n",
      "/kaggle/input/social-recommendation-data/lthing_data/lthing_data/edges.txt\n",
      "/kaggle/input/social-recommendation-data/epinions_data/epinions_data/network_trust.txt\n",
      "/kaggle/input/social-recommendation-data/epinions_data/epinions_data/network_trustedby.txt\n",
      "/kaggle/input/social-recommendation-data/epinions_data/epinions_data/epinions.txt\n"
     ]
    }
   ],
   "source": [
    "# This Python 3 environment comes with many helpful analytics libraries installed\n",
    "# It is defined by the kaggle/python Docker image: https://github.com/kaggle/docker-python\n",
    "# For example, here's several helpful packages to load\n",
    "\n",
    "import numpy as np # linear algebra\n",
    "import pandas as pd # data processing, CSV file I/O (e.g. pd.read_csv)\n",
    "\n",
    "# Input data files are available in the read-only \"../input/\" directory\n",
    "# For example, running this (by clicking run or pressing Shift+Enter) will list all files under the input directory\n",
    "\n",
    "import os\n",
    "for dirname, _, filenames in os.walk('/kaggle/input'):\n",
    "    for filename in filenames:\n",
    "        print(os.path.join(dirname, filename))\n",
    "\n",
    "# You can write up to 20GB to the current directory (/kaggle/working/) that gets preserved as output when you create a version using \"Save & Run All\" \n",
    "# You can also write temporary files to /kaggle/temp/, but they won't be saved outside of the current session"
   ]
  },
  {
   "cell_type": "markdown",
   "id": "7ec81b53",
   "metadata": {
    "papermill": {
     "duration": 0.006226,
     "end_time": "2024-11-19T19:05:32.357786",
     "exception": false,
     "start_time": "2024-11-19T19:05:32.351560",
     "status": "completed"
    },
    "tags": []
   },
   "source": [
    "# Data Loading"
   ]
  },
  {
   "cell_type": "code",
   "execution_count": 2,
   "id": "e48d346a",
   "metadata": {
    "execution": {
     "iopub.execute_input": "2024-11-19T19:05:32.371880Z",
     "iopub.status.busy": "2024-11-19T19:05:32.371008Z",
     "iopub.status.idle": "2024-11-19T19:05:46.335552Z",
     "shell.execute_reply": "2024-11-19T19:05:46.334578Z"
    },
    "papermill": {
     "duration": 13.973521,
     "end_time": "2024-11-19T19:05:46.337459",
     "exception": false,
     "start_time": "2024-11-19T19:05:32.363938",
     "status": "completed"
    },
    "tags": []
   },
   "outputs": [
    {
     "name": "stdout",
     "output_type": "stream",
     "text": [
      "1707072\n"
     ]
    }
   ],
   "source": [
    "import os\n",
    "\n",
    "s = ''\n",
    "with open('/kaggle/input/social-recommendation-data/lthing_data/lthing_data/reviews.txt') as file:\n",
    "    s = file.read()\n",
    "    s = s.split('\\n')\n",
    "    print(len(s))\n",
    "    s = s[1:500000]"
   ]
  },
  {
   "cell_type": "code",
   "execution_count": 3,
   "id": "790ede69",
   "metadata": {
    "execution": {
     "iopub.execute_input": "2024-11-19T19:05:46.351827Z",
     "iopub.status.busy": "2024-11-19T19:05:46.351544Z",
     "iopub.status.idle": "2024-11-19T19:05:46.355540Z",
     "shell.execute_reply": "2024-11-19T19:05:46.354743Z"
    },
    "papermill": {
     "duration": 0.013168,
     "end_time": "2024-11-19T19:05:46.357288",
     "exception": false,
     "start_time": "2024-11-19T19:05:46.344120",
     "status": "completed"
    },
    "tags": []
   },
   "outputs": [],
   "source": [
    "reviews_file = '/kaggle/input/social-recommendation-data/lthing_data/lthing_data/reviews.txt'"
   ]
  },
  {
   "cell_type": "code",
   "execution_count": 4,
   "id": "53f1205d",
   "metadata": {
    "execution": {
     "iopub.execute_input": "2024-11-19T19:05:46.371194Z",
     "iopub.status.busy": "2024-11-19T19:05:46.370541Z",
     "iopub.status.idle": "2024-11-19T19:05:46.375806Z",
     "shell.execute_reply": "2024-11-19T19:05:46.374862Z"
    },
    "papermill": {
     "duration": 0.014186,
     "end_time": "2024-11-19T19:05:46.377573",
     "exception": false,
     "start_time": "2024-11-19T19:05:46.363387",
     "status": "completed"
    },
    "tags": []
   },
   "outputs": [
    {
     "name": "stdout",
     "output_type": "stream",
     "text": [
      "reviews = {}\n",
      "\n",
      "reviews[('73960', 'Elizabeth.Wong98')] = {'comment': \"Every evening, the brave queen of Persia, Shahrazad, goes into the Sultan's rooms and begins a weave of words, hoping to entice the Sultan to let her live another night so she can continue her story. But Shahrazad has a big problem: She is running out of stories. With a delicate stroke of luck, a cripple girl, Marjan, ventures into the harem with her Aunt to sell various wares. As her Aunt is selling things, Marjan entertains some of the children with a story. Unbeknownst to Marjan, Shahrazad's sister, Dunyazad, has heard her telling the story. Marjan is taken directly to Shahrazad and asked to recount the story. The tale keeps the queen alive another night and the queen decides to keep Marjan.\\n As her helper, Marjan has to go into the city and look for tales that the Sultan has not heard. She has several close calls with the Kathun, the voracious female who rules the harem and who is set against \\nShahrazad. Finally the Sultan proclaims that he will stop killing women every night. Unfortunately, Marjan is still in danger and has to be taken out of the city along with Zaynab, an old woman who assisted Marjan. \\n Since my mom suggested this book to me, I thought that it would be boring. It was quite the opposite. I was intrigued from the very beginning to the end. I loved the byplay between the characters and the thrilling escapes from various places. One thing that didn't please me was the ending. The ending was abrupt; the story just kind of stopped and left you wondering what happened next in Marjan's life. But all in all, this book was amazing and I have read and re-read it many times \", 'nhelpful': 0, 'unixtime': 1332288000, 'work': '73960', 'flags': [], 'user': 'Elizabeth.Wong98', 'stars': 4.5, 'time': 'Mar 21, 2012'}\n",
      "\n",
      "reviews[('69413', 'rivkat')] = {'comment': 'Its the 1983-84 school year and Edward Zanni of Hoboken has to figure out how to get into, and then to pay for, Juilliard when his father insists that hell only pay for a business major. Fortunately, hes got friends; unfortunately, their ideas tend towards the felonious. A bunch of comic setpieces strung together with bare connective tissue. The characters were all trying too hard to be charming, which makes them typical teens but no more fun for that. Bonus for varying sexualities among the teens, but points off for a 2004 novel in which Edwards 1984 observations are way too precious (Madonnas a flash in the pan, what does that Matthew Broderick fellow have that I dont, etc.). ', 'nhelpful': 0, 'unixtime': 1253404800, 'work': '69413', 'flags': [], 'user': 'rivkat', 'stars': 3.0, 'time': 'Sep 20, 2009'}\n",
      "\n"
     ]
    }
   ],
   "source": [
    "with open(reviews_file, 'r') as file:\n",
    "    for _ in range(3):  \n",
    "        print(file.readline())"
   ]
  },
  {
   "cell_type": "code",
   "execution_count": 5,
   "id": "145c23b9",
   "metadata": {
    "execution": {
     "iopub.execute_input": "2024-11-19T19:05:46.391926Z",
     "iopub.status.busy": "2024-11-19T19:05:46.391677Z",
     "iopub.status.idle": "2024-11-19T19:05:46.395036Z",
     "shell.execute_reply": "2024-11-19T19:05:46.394222Z"
    },
    "papermill": {
     "duration": 0.012398,
     "end_time": "2024-11-19T19:05:46.396744",
     "exception": false,
     "start_time": "2024-11-19T19:05:46.384346",
     "status": "completed"
    },
    "tags": []
   },
   "outputs": [],
   "source": [
    "# for key, value in list(reviews.items())[:5]:\n",
    "#     print(f\"Key: {key}, Value: {value}\")\n",
    "#     print(\"------------\")"
   ]
  },
  {
   "cell_type": "markdown",
   "id": "f4d17442",
   "metadata": {
    "papermill": {
     "duration": 0.006295,
     "end_time": "2024-11-19T19:05:46.409255",
     "exception": false,
     "start_time": "2024-11-19T19:05:46.402960",
     "status": "completed"
    },
    "tags": []
   },
   "source": [
    "## Data Formatting"
   ]
  },
  {
   "cell_type": "code",
   "execution_count": 6,
   "id": "80201245",
   "metadata": {
    "execution": {
     "iopub.execute_input": "2024-11-19T19:05:46.422807Z",
     "iopub.status.busy": "2024-11-19T19:05:46.422556Z",
     "iopub.status.idle": "2024-11-19T19:07:12.239202Z",
     "shell.execute_reply": "2024-11-19T19:07:12.238278Z"
    },
    "papermill": {
     "duration": 85.832437,
     "end_time": "2024-11-19T19:07:12.248070",
     "exception": false,
     "start_time": "2024-11-19T19:05:46.415633",
     "status": "completed"
    },
    "tags": []
   },
   "outputs": [
    {
     "name": "stdout",
     "output_type": "stream",
     "text": [
      "                                             comment  nhelpful      unixtime  \\\n",
      "0  Every evening, the brave queen of Persia, Shah...         0  1.332288e+09   \n",
      "1  Its the 1983-84 school year and Edward Zanni o...         0  1.253405e+09   \n",
      "2  I became privy to this book, when another auth...         0  1.299888e+09   \n",
      "3                                              .             0  1.327277e+09   \n",
      "4  This is a tremendous story of a freed woman an...         0  1.329005e+09   \n",
      "\n",
      "       work flags              user  stars          time  \n",
      "0     73960    []  Elizabeth.Wong98    4.5  Mar 21, 2012  \n",
      "1     69413    []            rivkat    3.0  Sep 20, 2009  \n",
      "2   9523995    []      suz.haugland    4.0  Mar 12, 2011  \n",
      "3    368228    []        amoskovacs    4.0  Jan 23, 2012  \n",
      "4  11243828    []            CandyH    4.0  Feb 12, 2012  \n"
     ]
    }
   ],
   "source": [
    "import ast\n",
    "import pandas as pd\n",
    "\n",
    "# Initialize an empty list to store review data\n",
    "data = []\n",
    "\n",
    "with open(reviews_file, 'r') as file:\n",
    "    for line in file:\n",
    "        if line.strip().startswith(\"reviews[\"):  # Skip lines assigning 'reviews'\n",
    "            key_value = line.strip().split(\" = \", 1)[1]  # Extract dictionary part\n",
    "            review_entry = ast.literal_eval(key_value)\n",
    "            data.append(review_entry)\n",
    "\n",
    "# Convert the list of dictionaries directly into a DataFrame\n",
    "reviews_df = pd.DataFrame(data)\n",
    "\n",
    "# Display the first few rows of the DataFrame\n",
    "print(reviews_df.head())"
   ]
  },
  {
   "cell_type": "code",
   "execution_count": 7,
   "id": "13d3adf0",
   "metadata": {
    "execution": {
     "iopub.execute_input": "2024-11-19T19:07:12.262272Z",
     "iopub.status.busy": "2024-11-19T19:07:12.261967Z",
     "iopub.status.idle": "2024-11-19T19:07:12.284916Z",
     "shell.execute_reply": "2024-11-19T19:07:12.284070Z"
    },
    "papermill": {
     "duration": 0.032074,
     "end_time": "2024-11-19T19:07:12.286835",
     "exception": false,
     "start_time": "2024-11-19T19:07:12.254761",
     "status": "completed"
    },
    "tags": []
   },
   "outputs": [
    {
     "data": {
      "text/html": [
       "<div>\n",
       "<style scoped>\n",
       "    .dataframe tbody tr th:only-of-type {\n",
       "        vertical-align: middle;\n",
       "    }\n",
       "\n",
       "    .dataframe tbody tr th {\n",
       "        vertical-align: top;\n",
       "    }\n",
       "\n",
       "    .dataframe thead th {\n",
       "        text-align: right;\n",
       "    }\n",
       "</style>\n",
       "<table border=\"1\" class=\"dataframe\">\n",
       "  <thead>\n",
       "    <tr style=\"text-align: right;\">\n",
       "      <th></th>\n",
       "      <th>comment</th>\n",
       "      <th>nhelpful</th>\n",
       "      <th>unixtime</th>\n",
       "      <th>work</th>\n",
       "      <th>flags</th>\n",
       "      <th>user</th>\n",
       "      <th>stars</th>\n",
       "      <th>time</th>\n",
       "    </tr>\n",
       "  </thead>\n",
       "  <tbody>\n",
       "    <tr>\n",
       "      <th>0</th>\n",
       "      <td>Every evening, the brave queen of Persia, Shah...</td>\n",
       "      <td>0</td>\n",
       "      <td>1.332288e+09</td>\n",
       "      <td>73960</td>\n",
       "      <td>[]</td>\n",
       "      <td>Elizabeth.Wong98</td>\n",
       "      <td>4.5</td>\n",
       "      <td>Mar 21, 2012</td>\n",
       "    </tr>\n",
       "    <tr>\n",
       "      <th>1</th>\n",
       "      <td>Its the 1983-84 school year and Edward Zanni o...</td>\n",
       "      <td>0</td>\n",
       "      <td>1.253405e+09</td>\n",
       "      <td>69413</td>\n",
       "      <td>[]</td>\n",
       "      <td>rivkat</td>\n",
       "      <td>3.0</td>\n",
       "      <td>Sep 20, 2009</td>\n",
       "    </tr>\n",
       "    <tr>\n",
       "      <th>2</th>\n",
       "      <td>I became privy to this book, when another auth...</td>\n",
       "      <td>0</td>\n",
       "      <td>1.299888e+09</td>\n",
       "      <td>9523995</td>\n",
       "      <td>[]</td>\n",
       "      <td>suz.haugland</td>\n",
       "      <td>4.0</td>\n",
       "      <td>Mar 12, 2011</td>\n",
       "    </tr>\n",
       "    <tr>\n",
       "      <th>3</th>\n",
       "      <td>.</td>\n",
       "      <td>0</td>\n",
       "      <td>1.327277e+09</td>\n",
       "      <td>368228</td>\n",
       "      <td>[]</td>\n",
       "      <td>amoskovacs</td>\n",
       "      <td>4.0</td>\n",
       "      <td>Jan 23, 2012</td>\n",
       "    </tr>\n",
       "    <tr>\n",
       "      <th>4</th>\n",
       "      <td>This is a tremendous story of a freed woman an...</td>\n",
       "      <td>0</td>\n",
       "      <td>1.329005e+09</td>\n",
       "      <td>11243828</td>\n",
       "      <td>[]</td>\n",
       "      <td>CandyH</td>\n",
       "      <td>4.0</td>\n",
       "      <td>Feb 12, 2012</td>\n",
       "    </tr>\n",
       "    <tr>\n",
       "      <th>...</th>\n",
       "      <td>...</td>\n",
       "      <td>...</td>\n",
       "      <td>...</td>\n",
       "      <td>...</td>\n",
       "      <td>...</td>\n",
       "      <td>...</td>\n",
       "      <td>...</td>\n",
       "      <td>...</td>\n",
       "    </tr>\n",
       "    <tr>\n",
       "      <th>1707065</th>\n",
       "      <td>This is quite possibly the cutest kids book I'...</td>\n",
       "      <td>0</td>\n",
       "      <td>1.327795e+09</td>\n",
       "      <td>129503</td>\n",
       "      <td>[]</td>\n",
       "      <td>evementen</td>\n",
       "      <td>NaN</td>\n",
       "      <td>Jan 29, 2012</td>\n",
       "    </tr>\n",
       "    <tr>\n",
       "      <th>1707066</th>\n",
       "      <td>This is a fairy tale which is very much a Cupi...</td>\n",
       "      <td>0</td>\n",
       "      <td>1.364688e+09</td>\n",
       "      <td>11749693</td>\n",
       "      <td>[]</td>\n",
       "      <td>AmyMacEvilly</td>\n",
       "      <td>5.0</td>\n",
       "      <td>Mar 31, 2013</td>\n",
       "    </tr>\n",
       "    <tr>\n",
       "      <th>1707067</th>\n",
       "      <td>http://tamaranth.blogspot.com/1994/03/guilty-p...</td>\n",
       "      <td>0</td>\n",
       "      <td>1.176682e+09</td>\n",
       "      <td>4873693</td>\n",
       "      <td>[]</td>\n",
       "      <td>tamaranth</td>\n",
       "      <td>4.5</td>\n",
       "      <td>Apr 16, 2007</td>\n",
       "    </tr>\n",
       "    <tr>\n",
       "      <th>1707068</th>\n",
       "      <td>Despus del extraordinario xito de Los ojos ama...</td>\n",
       "      <td>0</td>\n",
       "      <td>1.321920e+09</td>\n",
       "      <td>9705446</td>\n",
       "      <td>[]</td>\n",
       "      <td>bibliosa</td>\n",
       "      <td>NaN</td>\n",
       "      <td>Nov 22, 2011</td>\n",
       "    </tr>\n",
       "    <tr>\n",
       "      <th>1707069</th>\n",
       "      <td>I originally met most of the diseases covered ...</td>\n",
       "      <td>3</td>\n",
       "      <td>1.188518e+09</td>\n",
       "      <td>32396</td>\n",
       "      <td>[]</td>\n",
       "      <td>jlelliott</td>\n",
       "      <td>4.0</td>\n",
       "      <td>Aug 31, 2007</td>\n",
       "    </tr>\n",
       "  </tbody>\n",
       "</table>\n",
       "<p>1707070 rows × 8 columns</p>\n",
       "</div>"
      ],
      "text/plain": [
       "                                                   comment  nhelpful  \\\n",
       "0        Every evening, the brave queen of Persia, Shah...         0   \n",
       "1        Its the 1983-84 school year and Edward Zanni o...         0   \n",
       "2        I became privy to this book, when another auth...         0   \n",
       "3                                                    .             0   \n",
       "4        This is a tremendous story of a freed woman an...         0   \n",
       "...                                                    ...       ...   \n",
       "1707065  This is quite possibly the cutest kids book I'...         0   \n",
       "1707066  This is a fairy tale which is very much a Cupi...         0   \n",
       "1707067  http://tamaranth.blogspot.com/1994/03/guilty-p...         0   \n",
       "1707068  Despus del extraordinario xito de Los ojos ama...         0   \n",
       "1707069  I originally met most of the diseases covered ...         3   \n",
       "\n",
       "             unixtime      work flags              user  stars          time  \n",
       "0        1.332288e+09     73960    []  Elizabeth.Wong98    4.5  Mar 21, 2012  \n",
       "1        1.253405e+09     69413    []            rivkat    3.0  Sep 20, 2009  \n",
       "2        1.299888e+09   9523995    []      suz.haugland    4.0  Mar 12, 2011  \n",
       "3        1.327277e+09    368228    []        amoskovacs    4.0  Jan 23, 2012  \n",
       "4        1.329005e+09  11243828    []            CandyH    4.0  Feb 12, 2012  \n",
       "...               ...       ...   ...               ...    ...           ...  \n",
       "1707065  1.327795e+09    129503    []         evementen    NaN  Jan 29, 2012  \n",
       "1707066  1.364688e+09  11749693    []      AmyMacEvilly    5.0  Mar 31, 2013  \n",
       "1707067  1.176682e+09   4873693    []         tamaranth    4.5  Apr 16, 2007  \n",
       "1707068  1.321920e+09   9705446    []          bibliosa    NaN  Nov 22, 2011  \n",
       "1707069  1.188518e+09     32396    []         jlelliott    4.0  Aug 31, 2007  \n",
       "\n",
       "[1707070 rows x 8 columns]"
      ]
     },
     "execution_count": 7,
     "metadata": {},
     "output_type": "execute_result"
    }
   ],
   "source": [
    "reviews_df"
   ]
  },
  {
   "cell_type": "code",
   "execution_count": 8,
   "id": "6662f587",
   "metadata": {
    "execution": {
     "iopub.execute_input": "2024-11-19T19:07:12.301632Z",
     "iopub.status.busy": "2024-11-19T19:07:12.301361Z",
     "iopub.status.idle": "2024-11-19T19:07:12.310412Z",
     "shell.execute_reply": "2024-11-19T19:07:12.309851Z"
    },
    "papermill": {
     "duration": 0.018208,
     "end_time": "2024-11-19T19:07:12.312033",
     "exception": false,
     "start_time": "2024-11-19T19:07:12.293825",
     "status": "completed"
    },
    "tags": []
   },
   "outputs": [],
   "source": [
    "# Save the DataFrame to a CSV file\n",
    "reviews_df[:10].to_csv('/kaggle/working/reviews_processed10.csv', index=False)"
   ]
  },
  {
   "cell_type": "code",
   "execution_count": 9,
   "id": "083a3041",
   "metadata": {
    "execution": {
     "iopub.execute_input": "2024-11-19T19:07:12.326694Z",
     "iopub.status.busy": "2024-11-19T19:07:12.326392Z",
     "iopub.status.idle": "2024-11-19T19:07:12.329895Z",
     "shell.execute_reply": "2024-11-19T19:07:12.329151Z"
    },
    "papermill": {
     "duration": 0.012486,
     "end_time": "2024-11-19T19:07:12.331426",
     "exception": false,
     "start_time": "2024-11-19T19:07:12.318940",
     "status": "completed"
    },
    "tags": []
   },
   "outputs": [],
   "source": [
    "edges_file = '/kaggle/input/social-recommendation-data/lthing_data/lthing_data/edges.txt'"
   ]
  },
  {
   "cell_type": "code",
   "execution_count": 10,
   "id": "f4b2b942",
   "metadata": {
    "execution": {
     "iopub.execute_input": "2024-11-19T19:07:12.345540Z",
     "iopub.status.busy": "2024-11-19T19:07:12.345251Z",
     "iopub.status.idle": "2024-11-19T19:07:12.354980Z",
     "shell.execute_reply": "2024-11-19T19:07:12.354222Z"
    },
    "papermill": {
     "duration": 0.01885,
     "end_time": "2024-11-19T19:07:12.356780",
     "exception": false,
     "start_time": "2024-11-19T19:07:12.337930",
     "status": "completed"
    },
    "tags": []
   },
   "outputs": [
    {
     "name": "stdout",
     "output_type": "stream",
     "text": [
      "Rodo anehan\n",
      "\n",
      "Rodo sevilemar\n",
      "\n",
      "Rodo dingsi\n",
      "\n"
     ]
    }
   ],
   "source": [
    "with open(edges_file, 'r') as file:\n",
    "    for _ in range(3):  \n",
    "        print(file.readline())"
   ]
  },
  {
   "cell_type": "code",
   "execution_count": 11,
   "id": "c23a4d17",
   "metadata": {
    "execution": {
     "iopub.execute_input": "2024-11-19T19:07:12.371696Z",
     "iopub.status.busy": "2024-11-19T19:07:12.371447Z",
     "iopub.status.idle": "2024-11-19T19:07:12.592349Z",
     "shell.execute_reply": "2024-11-19T19:07:12.591573Z"
    },
    "papermill": {
     "duration": 0.230707,
     "end_time": "2024-11-19T19:07:12.594412",
     "exception": false,
     "start_time": "2024-11-19T19:07:12.363705",
     "status": "completed"
    },
    "tags": []
   },
   "outputs": [],
   "source": [
    "# Load edges into a DataFrame\n",
    "edges_data = []\n",
    "with open(edges_file, 'r') as file:\n",
    "    for line in file:\n",
    "        users = line.strip().split()  # Split by whitespace to get the two usernames\n",
    "        if len(users) == 2:  # Ensure only valid pairs\n",
    "            edges_data.append(users)\n",
    "\n",
    "edges_df = pd.DataFrame(edges_data, columns=['user1', 'user2'])"
   ]
  },
  {
   "cell_type": "code",
   "execution_count": 12,
   "id": "a294bc23",
   "metadata": {
    "execution": {
     "iopub.execute_input": "2024-11-19T19:07:12.610334Z",
     "iopub.status.busy": "2024-11-19T19:07:12.610004Z",
     "iopub.status.idle": "2024-11-19T19:07:12.619790Z",
     "shell.execute_reply": "2024-11-19T19:07:12.618996Z"
    },
    "papermill": {
     "duration": 0.019736,
     "end_time": "2024-11-19T19:07:12.621459",
     "exception": false,
     "start_time": "2024-11-19T19:07:12.601723",
     "status": "completed"
    },
    "tags": []
   },
   "outputs": [
    {
     "data": {
      "text/html": [
       "<div>\n",
       "<style scoped>\n",
       "    .dataframe tbody tr th:only-of-type {\n",
       "        vertical-align: middle;\n",
       "    }\n",
       "\n",
       "    .dataframe tbody tr th {\n",
       "        vertical-align: top;\n",
       "    }\n",
       "\n",
       "    .dataframe thead th {\n",
       "        text-align: right;\n",
       "    }\n",
       "</style>\n",
       "<table border=\"1\" class=\"dataframe\">\n",
       "  <thead>\n",
       "    <tr style=\"text-align: right;\">\n",
       "      <th></th>\n",
       "      <th>user1</th>\n",
       "      <th>user2</th>\n",
       "    </tr>\n",
       "  </thead>\n",
       "  <tbody>\n",
       "    <tr>\n",
       "      <th>0</th>\n",
       "      <td>Rodo</td>\n",
       "      <td>anehan</td>\n",
       "    </tr>\n",
       "    <tr>\n",
       "      <th>1</th>\n",
       "      <td>Rodo</td>\n",
       "      <td>sevilemar</td>\n",
       "    </tr>\n",
       "    <tr>\n",
       "      <th>2</th>\n",
       "      <td>Rodo</td>\n",
       "      <td>dingsi</td>\n",
       "    </tr>\n",
       "    <tr>\n",
       "      <th>3</th>\n",
       "      <td>Rodo</td>\n",
       "      <td>slash</td>\n",
       "    </tr>\n",
       "    <tr>\n",
       "      <th>4</th>\n",
       "      <td>RelaxedReader</td>\n",
       "      <td>AnnRig</td>\n",
       "    </tr>\n",
       "    <tr>\n",
       "      <th>...</th>\n",
       "      <td>...</td>\n",
       "      <td>...</td>\n",
       "    </tr>\n",
       "    <tr>\n",
       "      <th>219785</th>\n",
       "      <td>Capfox</td>\n",
       "      <td>lampbane</td>\n",
       "    </tr>\n",
       "    <tr>\n",
       "      <th>219786</th>\n",
       "      <td>Capfox</td>\n",
       "      <td>maberry</td>\n",
       "    </tr>\n",
       "    <tr>\n",
       "      <th>219787</th>\n",
       "      <td>Capfox</td>\n",
       "      <td>raphinou</td>\n",
       "    </tr>\n",
       "    <tr>\n",
       "      <th>219788</th>\n",
       "      <td>Capfox</td>\n",
       "      <td>library1359</td>\n",
       "    </tr>\n",
       "    <tr>\n",
       "      <th>219789</th>\n",
       "      <td>Capfox</td>\n",
       "      <td>nataliepm</td>\n",
       "    </tr>\n",
       "  </tbody>\n",
       "</table>\n",
       "<p>219790 rows × 2 columns</p>\n",
       "</div>"
      ],
      "text/plain": [
       "                user1        user2\n",
       "0                Rodo       anehan\n",
       "1                Rodo    sevilemar\n",
       "2                Rodo       dingsi\n",
       "3                Rodo        slash\n",
       "4       RelaxedReader       AnnRig\n",
       "...               ...          ...\n",
       "219785         Capfox     lampbane\n",
       "219786         Capfox      maberry\n",
       "219787         Capfox     raphinou\n",
       "219788         Capfox  library1359\n",
       "219789         Capfox    nataliepm\n",
       "\n",
       "[219790 rows x 2 columns]"
      ]
     },
     "execution_count": 12,
     "metadata": {},
     "output_type": "execute_result"
    }
   ],
   "source": [
    "edges_df"
   ]
  },
  {
   "cell_type": "code",
   "execution_count": 13,
   "id": "73caa34a",
   "metadata": {
    "execution": {
     "iopub.execute_input": "2024-11-19T19:07:12.637805Z",
     "iopub.status.busy": "2024-11-19T19:07:12.636996Z",
     "iopub.status.idle": "2024-11-19T19:07:21.722868Z",
     "shell.execute_reply": "2024-11-19T19:07:21.721745Z"
    },
    "papermill": {
     "duration": 9.095865,
     "end_time": "2024-11-19T19:07:21.724833",
     "exception": false,
     "start_time": "2024-11-19T19:07:12.628968",
     "status": "completed"
    },
    "tags": []
   },
   "outputs": [
    {
     "name": "stdout",
     "output_type": "stream",
     "text": [
      "  user1   user2                                            comment  nhelpful  \\\n",
      "0  Rodo  anehan  This book is enjoyable, but it doesn't quite m...         0   \n",
      "1  Rodo  anehan  All traditions were new once upon a time. This...         0   \n",
      "2  Rodo  anehan  I really can't recommend this books. I wanted ...         1   \n",
      "3  Rodo  anehan  I didn't expect much of this book when I bough...         0   \n",
      "4  Rodo  anehan  If you are expecting a logical explanation of ...         0   \n",
      "\n",
      "       unixtime     work flags  user  stars          time  \n",
      "0  1.250122e+09  2926113    []  Rodo    3.0  Aug 13, 2009  \n",
      "1  1.240963e+09   162191    []  Rodo    4.0  Apr 29, 2009  \n",
      "2  1.239667e+09  2044763    []  Rodo    1.0  Apr 14, 2009  \n",
      "3  1.239667e+09  3116531    []  Rodo    1.5  Apr 14, 2009  \n",
      "4  1.240790e+09    58874    []  Rodo    3.5  Apr 27, 2009  \n"
     ]
    }
   ],
   "source": [
    "merged_df = edges_df.merge(reviews_df, left_on='user1', right_on='user', how='left')\n",
    "\n",
    "# Display merged data\n",
    "print(merged_df.head())"
   ]
  },
  {
   "cell_type": "code",
   "execution_count": 14,
   "id": "319c6842",
   "metadata": {
    "execution": {
     "iopub.execute_input": "2024-11-19T19:07:21.741702Z",
     "iopub.status.busy": "2024-11-19T19:07:21.741418Z",
     "iopub.status.idle": "2024-11-19T19:07:21.746658Z",
     "shell.execute_reply": "2024-11-19T19:07:21.745892Z"
    },
    "papermill": {
     "duration": 0.015435,
     "end_time": "2024-11-19T19:07:21.748338",
     "exception": false,
     "start_time": "2024-11-19T19:07:21.732903",
     "status": "completed"
    },
    "tags": []
   },
   "outputs": [],
   "source": [
    "# # Save the merged data if needed\n",
    "# merged_df.to_csv('/kaggle/working/merged_edges_reviews.csv', index=False)\n",
    "# # Save the merged data if needed\n",
    "merged_df[:10].to_csv('/kaggle/working/merged_edges_reviews_10.csv', index=False)"
   ]
  },
  {
   "cell_type": "markdown",
   "id": "1d069f5f",
   "metadata": {
    "papermill": {
     "duration": 0.006774,
     "end_time": "2024-11-19T19:07:21.762163",
     "exception": false,
     "start_time": "2024-11-19T19:07:21.755389",
     "status": "completed"
    },
    "tags": []
   },
   "source": [
    "# EDA"
   ]
  },
  {
   "cell_type": "code",
   "execution_count": 15,
   "id": "28cfcce8",
   "metadata": {
    "execution": {
     "iopub.execute_input": "2024-11-19T19:07:21.777673Z",
     "iopub.status.busy": "2024-11-19T19:07:21.777381Z",
     "iopub.status.idle": "2024-11-19T19:07:21.819732Z",
     "shell.execute_reply": "2024-11-19T19:07:21.818625Z"
    },
    "papermill": {
     "duration": 0.051854,
     "end_time": "2024-11-19T19:07:21.821498",
     "exception": false,
     "start_time": "2024-11-19T19:07:21.769644",
     "status": "completed"
    },
    "tags": []
   },
   "outputs": [
    {
     "name": "stdout",
     "output_type": "stream",
     "text": [
      "user1\n",
      "theoldman           3776\n",
      "rolandperkins       2786\n",
      "gangleri             704\n",
      "carterchristian1     603\n",
      "edlynskey            557\n",
      "Autodafe             534\n",
      "AllieW               526\n",
      "amanaceerdh          479\n",
      "angrystarlyt         404\n",
      "Kushana              389\n",
      "Name: count, dtype: int64\n"
     ]
    }
   ],
   "source": [
    "connection_counts = edges_df['user1'].value_counts()\n",
    "print(connection_counts.head(10))  # Top 10 users with the most connections"
   ]
  },
  {
   "cell_type": "code",
   "execution_count": 16,
   "id": "ce552110",
   "metadata": {
    "execution": {
     "iopub.execute_input": "2024-11-19T19:07:21.836854Z",
     "iopub.status.busy": "2024-11-19T19:07:21.836559Z",
     "iopub.status.idle": "2024-11-19T19:07:23.730760Z",
     "shell.execute_reply": "2024-11-19T19:07:23.729667Z"
    },
    "papermill": {
     "duration": 1.904153,
     "end_time": "2024-11-19T19:07:23.732815",
     "exception": false,
     "start_time": "2024-11-19T19:07:21.828662",
     "status": "completed"
    },
    "tags": []
   },
   "outputs": [
    {
     "name": "stdout",
     "output_type": "stream",
     "text": [
      "           user1  avg_rating\n",
      "0      -AlyssaE-    4.000000\n",
      "1       -HarryH-    4.500000\n",
      "2  -LoveofBooks-    4.166667\n",
      "3         -MiSa-    2.500000\n",
      "4         -Mimi-    4.192308\n"
     ]
    }
   ],
   "source": [
    "#Review Sentiment by Network\n",
    "avg_rating_per_user = merged_df.groupby('user1')['stars'].mean().reset_index()\n",
    "avg_rating_per_user.columns = ['user1', 'avg_rating']\n",
    "print(avg_rating_per_user.head())"
   ]
  },
  {
   "cell_type": "code",
   "execution_count": 17,
   "id": "34763521",
   "metadata": {
    "execution": {
     "iopub.execute_input": "2024-11-19T19:07:23.749395Z",
     "iopub.status.busy": "2024-11-19T19:07:23.749080Z",
     "iopub.status.idle": "2024-11-19T19:07:25.522005Z",
     "shell.execute_reply": "2024-11-19T19:07:25.520803Z"
    },
    "papermill": {
     "duration": 1.782784,
     "end_time": "2024-11-19T19:07:25.523900",
     "exception": false,
     "start_time": "2024-11-19T19:07:23.741116",
     "status": "completed"
    },
    "tags": []
   },
   "outputs": [
    {
     "name": "stdout",
     "output_type": "stream",
     "text": [
      "              user1  total_helpful_votes\n",
      "21949  richardderus               514416\n",
      "9001       Whisper1               474369\n",
      "25217     wisewoman               316830\n",
      "11377        brenzi               198774\n",
      "12792       danielx               198320\n"
     ]
    }
   ],
   "source": [
    "helpful_votes_per_user = merged_df.groupby('user1')['nhelpful'].sum().reset_index()\n",
    "helpful_votes_per_user.columns = ['user1', 'total_helpful_votes']\n",
    "print(helpful_votes_per_user.sort_values(by='total_helpful_votes', ascending=False).head())"
   ]
  },
  {
   "cell_type": "code",
   "execution_count": 18,
   "id": "e9e0c3cc",
   "metadata": {
    "execution": {
     "iopub.execute_input": "2024-11-19T19:07:25.540473Z",
     "iopub.status.busy": "2024-11-19T19:07:25.540157Z",
     "iopub.status.idle": "2024-11-19T19:07:26.748288Z",
     "shell.execute_reply": "2024-11-19T19:07:26.746814Z"
    },
    "papermill": {
     "duration": 1.219491,
     "end_time": "2024-11-19T19:07:26.751014",
     "exception": false,
     "start_time": "2024-11-19T19:07:25.531523",
     "status": "completed"
    },
    "tags": []
   },
   "outputs": [
    {
     "name": "stdout",
     "output_type": "stream",
     "text": [
      "[('theoldman', 0.05178557889150049), ('rolandperkins', 0.04197437258321328), ('Smethers', 0.010599742209416937), ('carterchristian1', 0.00902267040715748), ('edlynskey', 0.008431268481310183), ('Autodafe', 0.008082492986579726), ('gangleri', 0.008006672226855712), ('amanaceerdh', 0.007764045795738873), ('AllieW', 0.007400106149063613), ('angrystarlyt', 0.006202138145424217)]\n"
     ]
    }
   ],
   "source": [
    "import networkx as nx\n",
    "# Create a graph from edges\n",
    "G = nx.from_pandas_edgelist(edges_df, source='user1', target='user2')\n",
    "\n",
    "# Find centrality measures (influential users)\n",
    "degree_centrality = nx.degree_centrality(G)\n",
    "print(sorted(degree_centrality.items(), key=lambda x: x[1], reverse=True)[:10])  # Top 10 influential users"
   ]
  },
  {
   "cell_type": "code",
   "execution_count": 19,
   "id": "c61177da",
   "metadata": {
    "execution": {
     "iopub.execute_input": "2024-11-19T19:07:26.775602Z",
     "iopub.status.busy": "2024-11-19T19:07:26.774632Z",
     "iopub.status.idle": "2024-11-19T19:07:27.109235Z",
     "shell.execute_reply": "2024-11-19T19:07:27.108311Z"
    },
    "papermill": {
     "duration": 0.346305,
     "end_time": "2024-11-19T19:07:27.111595",
     "exception": false,
     "start_time": "2024-11-19T19:07:26.765290",
     "status": "completed"
    },
    "tags": []
   },
   "outputs": [
    {
     "data": {
      "image/png": "[encoded data removed]",
      "text/plain": [
       "<Figure size 640x480 with 1 Axes>"
      ]
     },
     "metadata": {},
     "output_type": "display_data"
    }
   ],
   "source": [
    "import matplotlib.pyplot as plt\n",
    "reviews_df['stars'].hist(bins=10)\n",
    "plt.title('Review Stars Distribution')\n",
    "plt.xlabel('Stars')\n",
    "plt.ylabel('Frequency')\n",
    "plt.show()"
   ]
  },
  {
   "cell_type": "code",
   "execution_count": 20,
   "id": "0ab5bb2b",
   "metadata": {
    "execution": {
     "iopub.execute_input": "2024-11-19T19:07:27.133866Z",
     "iopub.status.busy": "2024-11-19T19:07:27.133199Z",
     "iopub.status.idle": "2024-11-19T19:07:35.661591Z",
     "shell.execute_reply": "2024-11-19T19:07:35.660671Z"
    },
    "papermill": {
     "duration": 8.53902,
     "end_time": "2024-11-19T19:07:35.663563",
     "exception": false,
     "start_time": "2024-11-19T19:07:27.124543",
     "status": "completed"
    },
    "tags": []
   },
   "outputs": [
    {
     "data": {
      "image/png": "[encoded data removed]",
      "text/plain": [
       "<Figure size 640x480 with 1 Axes>"
      ]
     },
     "metadata": {},
     "output_type": "display_data"
    }
   ],
   "source": [
    "merged_df['review_date'] = pd.to_datetime(merged_df['unixtime'], unit='s')\n",
    "review_activity = merged_df.groupby(merged_df['review_date'].dt.date).size()\n",
    "review_activity.plot(kind='line', title='Review Activity Over Time', xlabel='Date', ylabel='Number of Reviews')\n",
    "plt.show()"
   ]
  },
  {
   "cell_type": "markdown",
   "id": "b69af47a",
   "metadata": {
    "papermill": {
     "duration": 0.00784,
     "end_time": "2024-11-19T19:07:35.680350",
     "exception": false,
     "start_time": "2024-11-19T19:07:35.672510",
     "status": "completed"
    },
    "tags": []
   },
   "source": [
    "# Analysis/ Interpretation"
   ]
  },
  {
   "cell_type": "markdown",
   "id": "907596ff",
   "metadata": {
    "papermill": {
     "duration": 0.007679,
     "end_time": "2024-11-19T19:07:35.695932",
     "exception": false,
     "start_time": "2024-11-19T19:07:35.688253",
     "status": "completed"
    },
    "tags": []
   },
   "source": [
    "1. Top Users by Connections:        \n",
    "*  Most Connected Users: The users theoldman, rolandperkins, and gangleri have the highest number of social connections.These users are likely central figures in the social network, suggesting they interact widely or have substantial influence.          \n",
    "\n",
    "2. User Review Behavior: \n",
    "* Average Ratings by User:    The users show varying average ratings, reflecting different reviewing tendencies.    Users like -HarryH- (average rating 4.5) tend to give higher ratings, indicating they either enjoy most works or are lenient reviewers.\n",
    "* Helpful Votes:    Users such as richardderus and Whisper1 have accumulated a significant number of helpful votes, indicating their reviews are widely read and considered useful by others.\n",
    "  These users might be considered thought leaders in the community.                     \n",
    "3. Network Centrality\n",
    "* Degree Centrality:Users like theoldman, rolandperkins, and Smethers are influential within the social graph, with high centrality scores. They likely act as hubs, bridging multiple smaller user groups.\n",
    "\n",
    "4. Review Star Distribution \n",
    "* The histogram shows that most reviews are positive, with many 4- and 5-star ratings.This indicates that users are generally satisfied with the works they are reviewing, or there may be some bias towards positive reviews.\n",
    "\n",
    "5. Review Activity Over Time \n",
    "* The sharp increase in review activity from around 2005 to 2015 suggests the platform gained significant traction during this period.The early low-frequency activity might indicate either fewer users or missing data from earlier years.\n",
    "\n"
   ]
  },
  {
   "cell_type": "markdown",
   "id": "fa582b98",
   "metadata": {
    "papermill": {
     "duration": 0.007625,
     "end_time": "2024-11-19T19:07:35.711523",
     "exception": false,
     "start_time": "2024-11-19T19:07:35.703898",
     "status": "completed"
    },
    "tags": []
   },
   "source": [
    "# Data preprocessing"
   ]
  },
  {
   "cell_type": "markdown",
   "id": "31b99d64",
   "metadata": {
    "papermill": {
     "duration": 0.007518,
     "end_time": "2024-11-19T19:07:35.727009",
     "exception": false,
     "start_time": "2024-11-19T19:07:35.719491",
     "status": "completed"
    },
    "tags": []
   },
   "source": [
    "## User-Item"
   ]
  },
  {
   "cell_type": "code",
   "execution_count": 21,
   "id": "f71952e1",
   "metadata": {
    "execution": {
     "iopub.execute_input": "2024-11-19T19:07:35.744110Z",
     "iopub.status.busy": "2024-11-19T19:07:35.743846Z",
     "iopub.status.idle": "2024-11-19T19:07:36.739231Z",
     "shell.execute_reply": "2024-11-19T19:07:36.738255Z"
    },
    "papermill": {
     "duration": 1.006573,
     "end_time": "2024-11-19T19:07:36.741589",
     "exception": false,
     "start_time": "2024-11-19T19:07:35.735016",
     "status": "completed"
    },
    "tags": []
   },
   "outputs": [
    {
     "name": "stdout",
     "output_type": "stream",
     "text": [
      "comment          0\n",
      "nhelpful         0\n",
      "unixtime        90\n",
      "work             0\n",
      "flags            0\n",
      "user             0\n",
      "stars       319861\n",
      "time            90\n",
      "dtype: int64\n"
     ]
    }
   ],
   "source": [
    "# Check for missing values\n",
    "print(reviews_df.isnull().sum())"
   ]
  },
  {
   "cell_type": "code",
   "execution_count": 22,
   "id": "bb12ac36",
   "metadata": {
    "execution": {
     "iopub.execute_input": "2024-11-19T19:07:36.760152Z",
     "iopub.status.busy": "2024-11-19T19:07:36.759891Z",
     "iopub.status.idle": "2024-11-19T19:07:36.811008Z",
     "shell.execute_reply": "2024-11-19T19:07:36.809990Z"
    },
    "papermill": {
     "duration": 0.061992,
     "end_time": "2024-11-19T19:07:36.812939",
     "exception": false,
     "start_time": "2024-11-19T19:07:36.750947",
     "status": "completed"
    },
    "tags": []
   },
   "outputs": [
    {
     "name": "stderr",
     "output_type": "stream",
     "text": [
      "/tmp/ipykernel_23/2891349285.py:2: FutureWarning: A value is trying to be set on a copy of a DataFrame or Series through chained assignment using an inplace method.\n",
      "The behavior will change in pandas 3.0. This inplace method will never work because the intermediate object on which we are setting values always behaves as a copy.\n",
      "\n",
      "For example, when doing 'df[col].method(value, inplace=True)', try using 'df.method({col: value}, inplace=True)' or df[col] = df[col].method(value) instead, to perform the operation inplace on the original object.\n",
      "\n",
      "\n",
      "  reviews_df['stars'].fillna(reviews_df['stars'].median(), inplace=True)\n"
     ]
    }
   ],
   "source": [
    "# Fill missing values in stars with the median rating (or other strategies depending on analysis)\n",
    "reviews_df['stars'].fillna(reviews_df['stars'].median(), inplace=True)\n",
    "\n",
    "# # Drop rows with missing comments, as they are essential for sentiment analysis\n",
    "# reviews_df.dropna(subset=['comment'], inplace=True)\n"
   ]
  },
  {
   "cell_type": "code",
   "execution_count": 23,
   "id": "0a81f6dc",
   "metadata": {
    "execution": {
     "iopub.execute_input": "2024-11-19T19:07:36.831423Z",
     "iopub.status.busy": "2024-11-19T19:07:36.831083Z",
     "iopub.status.idle": "2024-11-19T19:07:37.545718Z",
     "shell.execute_reply": "2024-11-19T19:07:37.544656Z"
    },
    "papermill": {
     "duration": 0.726089,
     "end_time": "2024-11-19T19:07:37.547962",
     "exception": false,
     "start_time": "2024-11-19T19:07:36.821873",
     "status": "completed"
    },
    "tags": []
   },
   "outputs": [],
   "source": [
    "reviews_df.dropna(subset=['unixtime', 'time'], inplace=True)"
   ]
  },
  {
   "cell_type": "code",
   "execution_count": 24,
   "id": "c44164db",
   "metadata": {
    "execution": {
     "iopub.execute_input": "2024-11-19T19:07:37.566274Z",
     "iopub.status.busy": "2024-11-19T19:07:37.565768Z",
     "iopub.status.idle": "2024-11-19T19:07:38.553566Z",
     "shell.execute_reply": "2024-11-19T19:07:38.552462Z"
    },
    "papermill": {
     "duration": 0.998823,
     "end_time": "2024-11-19T19:07:38.555506",
     "exception": false,
     "start_time": "2024-11-19T19:07:37.556683",
     "status": "completed"
    },
    "tags": []
   },
   "outputs": [
    {
     "name": "stdout",
     "output_type": "stream",
     "text": [
      "comment     0\n",
      "nhelpful    0\n",
      "unixtime    0\n",
      "work        0\n",
      "flags       0\n",
      "user        0\n",
      "stars       0\n",
      "time        0\n",
      "dtype: int64\n"
     ]
    }
   ],
   "source": [
    "# Check for missing values\n",
    "print(reviews_df.isnull().sum())"
   ]
  },
  {
   "cell_type": "code",
   "execution_count": 25,
   "id": "8500474c",
   "metadata": {
    "execution": {
     "iopub.execute_input": "2024-11-19T19:07:38.573729Z",
     "iopub.status.busy": "2024-11-19T19:07:38.573426Z",
     "iopub.status.idle": "2024-11-19T19:07:42.940218Z",
     "shell.execute_reply": "2024-11-19T19:07:42.939447Z"
    },
    "papermill": {
     "duration": 4.377953,
     "end_time": "2024-11-19T19:07:42.942291",
     "exception": false,
     "start_time": "2024-11-19T19:07:38.564338",
     "status": "completed"
    },
    "tags": []
   },
   "outputs": [],
   "source": [
    "from sklearn.preprocessing import LabelEncoder\n",
    "\n",
    "# Encoding user and work columns\n",
    "user_encoder = LabelEncoder()\n",
    "reviews_df['user_encoded'] = user_encoder.fit_transform(reviews_df['user'])\n",
    "\n",
    "work_encoder = LabelEncoder()\n",
    "reviews_df['work_encoded'] = work_encoder.fit_transform(reviews_df['work'])"
   ]
  },
  {
   "cell_type": "markdown",
   "id": "f07c28c2",
   "metadata": {
    "papermill": {
     "duration": 0.007871,
     "end_time": "2024-11-19T19:07:42.958867",
     "exception": false,
     "start_time": "2024-11-19T19:07:42.950996",
     "status": "completed"
    },
    "tags": []
   },
   "source": [
    "## Feature Engineering"
   ]
  },
  {
   "cell_type": "code",
   "execution_count": 26,
   "id": "fab59225",
   "metadata": {
    "execution": {
     "iopub.execute_input": "2024-11-19T19:07:42.976284Z",
     "iopub.status.busy": "2024-11-19T19:07:42.975744Z",
     "iopub.status.idle": "2024-11-19T19:07:54.551204Z",
     "shell.execute_reply": "2024-11-19T19:07:54.550038Z"
    },
    "papermill": {
     "duration": 11.586544,
     "end_time": "2024-11-19T19:07:54.553502",
     "exception": false,
     "start_time": "2024-11-19T19:07:42.966958",
     "status": "completed"
    },
    "tags": []
   },
   "outputs": [
    {
     "name": "stdout",
     "output_type": "stream",
     "text": [
      "Requirement already satisfied: textblob in /opt/conda/lib/python3.10/site-packages (0.18.0.post0)\r\n",
      "Collecting nltk>=3.8 (from textblob)\r\n",
      "  Downloading nltk-3.9.1-py3-none-any.whl.metadata (2.9 kB)\r\n",
      "Requirement already satisfied: click in /opt/conda/lib/python3.10/site-packages (from nltk>=3.8->textblob) (8.1.7)\r\n",
      "Requirement already satisfied: joblib in /opt/conda/lib/python3.10/site-packages (from nltk>=3.8->textblob) (1.4.2)\r\n",
      "Requirement already satisfied: regex>=2021.8.3 in /opt/conda/lib/python3.10/site-packages (from nltk>=3.8->textblob) (2024.5.15)\r\n",
      "Requirement already satisfied: tqdm in /opt/conda/lib/python3.10/site-packages (from nltk>=3.8->textblob) (4.66.4)\r\n",
      "Downloading nltk-3.9.1-py3-none-any.whl (1.5 MB)\r\n",
      "\u001b[2K   \u001b[90m━━━━━━━━━━━━━━━━━━━━━━━━━━━━━━━━━━━━━━━━\u001b[0m \u001b[32m1.5/1.5 MB\u001b[0m \u001b[31m18.0 MB/s\u001b[0m eta \u001b[36m0:00:00\u001b[0m\r\n",
      "\u001b[?25hInstalling collected packages: nltk\r\n",
      "  Attempting uninstall: nltk\r\n",
      "    Found existing installation: nltk 3.2.4\r\n",
      "    Uninstalling nltk-3.2.4:\r\n",
      "      Successfully uninstalled nltk-3.2.4\r\n",
      "\u001b[31mERROR: pip's dependency resolver does not currently take into account all the packages that are installed. This behaviour is the source of the following dependency conflicts.\r\n",
      "preprocessing 0.1.13 requires nltk==3.2.4, but you have nltk 3.9.1 which is incompatible.\u001b[0m\u001b[31m\r\n",
      "\u001b[0mSuccessfully installed nltk-3.9.1\r\n"
     ]
    }
   ],
   "source": [
    "!pip install textblob"
   ]
  },
  {
   "cell_type": "code",
   "execution_count": 27,
   "id": "bb3b914a",
   "metadata": {
    "execution": {
     "iopub.execute_input": "2024-11-19T19:07:54.573516Z",
     "iopub.status.busy": "2024-11-19T19:07:54.573205Z",
     "iopub.status.idle": "2024-11-19T19:07:54.577501Z",
     "shell.execute_reply": "2024-11-19T19:07:54.576643Z"
    },
    "papermill": {
     "duration": 0.016294,
     "end_time": "2024-11-19T19:07:54.579282",
     "exception": false,
     "start_time": "2024-11-19T19:07:54.562988",
     "status": "completed"
    },
    "tags": []
   },
   "outputs": [],
   "source": [
    "# from textblob import TextBlob\n",
    "\n",
    "# # Adding sentiment polarity as a new feature\n",
    "# reviews_df['sentiment'] = reviews_df['comment'].apply(lambda x: TextBlob(x).sentiment.polarity)"
   ]
  },
  {
   "cell_type": "code",
   "execution_count": 28,
   "id": "f66f93e2",
   "metadata": {
    "execution": {
     "iopub.execute_input": "2024-11-19T19:07:54.598152Z",
     "iopub.status.busy": "2024-11-19T19:07:54.597910Z",
     "iopub.status.idle": "2024-11-19T19:07:55.479782Z",
     "shell.execute_reply": "2024-11-19T19:07:55.478726Z"
    },
    "papermill": {
     "duration": 0.893909,
     "end_time": "2024-11-19T19:07:55.482055",
     "exception": false,
     "start_time": "2024-11-19T19:07:54.588146",
     "status": "completed"
    },
    "tags": []
   },
   "outputs": [],
   "source": [
    "reviews_df['review_date'] = pd.to_datetime(reviews_df['unixtime'], unit='s')\n",
    "reviews_df['year'] = reviews_df['review_date'].dt.year\n",
    "reviews_df['month'] = reviews_df['review_date'].dt.month"
   ]
  },
  {
   "cell_type": "code",
   "execution_count": 29,
   "id": "8550b654",
   "metadata": {
    "execution": {
     "iopub.execute_input": "2024-11-19T19:07:55.501172Z",
     "iopub.status.busy": "2024-11-19T19:07:55.500845Z",
     "iopub.status.idle": "2024-11-19T19:07:55.518698Z",
     "shell.execute_reply": "2024-11-19T19:07:55.517805Z"
    },
    "papermill": {
     "duration": 0.029052,
     "end_time": "2024-11-19T19:07:55.520420",
     "exception": false,
     "start_time": "2024-11-19T19:07:55.491368",
     "status": "completed"
    },
    "tags": []
   },
   "outputs": [
    {
     "data": {
      "text/html": [
       "<div>\n",
       "<style scoped>\n",
       "    .dataframe tbody tr th:only-of-type {\n",
       "        vertical-align: middle;\n",
       "    }\n",
       "\n",
       "    .dataframe tbody tr th {\n",
       "        vertical-align: top;\n",
       "    }\n",
       "\n",
       "    .dataframe thead th {\n",
       "        text-align: right;\n",
       "    }\n",
       "</style>\n",
       "<table border=\"1\" class=\"dataframe\">\n",
       "  <thead>\n",
       "    <tr style=\"text-align: right;\">\n",
       "      <th></th>\n",
       "      <th>comment</th>\n",
       "      <th>nhelpful</th>\n",
       "      <th>unixtime</th>\n",
       "      <th>work</th>\n",
       "      <th>flags</th>\n",
       "      <th>user</th>\n",
       "      <th>stars</th>\n",
       "      <th>time</th>\n",
       "      <th>user_encoded</th>\n",
       "      <th>work_encoded</th>\n",
       "      <th>review_date</th>\n",
       "      <th>year</th>\n",
       "      <th>month</th>\n",
       "    </tr>\n",
       "  </thead>\n",
       "  <tbody>\n",
       "    <tr>\n",
       "      <th>0</th>\n",
       "      <td>Every evening, the brave queen of Persia, Shah...</td>\n",
       "      <td>0</td>\n",
       "      <td>1.332288e+09</td>\n",
       "      <td>73960</td>\n",
       "      <td>[]</td>\n",
       "      <td>Elizabeth.Wong98</td>\n",
       "      <td>4.5</td>\n",
       "      <td>Mar 21, 2012</td>\n",
       "      <td>8341</td>\n",
       "      <td>417961</td>\n",
       "      <td>2012-03-21</td>\n",
       "      <td>2012</td>\n",
       "      <td>3</td>\n",
       "    </tr>\n",
       "    <tr>\n",
       "      <th>1</th>\n",
       "      <td>Its the 1983-84 school year and Edward Zanni o...</td>\n",
       "      <td>0</td>\n",
       "      <td>1.253405e+09</td>\n",
       "      <td>69413</td>\n",
       "      <td>[]</td>\n",
       "      <td>rivkat</td>\n",
       "      <td>3.0</td>\n",
       "      <td>Sep 20, 2009</td>\n",
       "      <td>71112</td>\n",
       "      <td>408855</td>\n",
       "      <td>2009-09-20</td>\n",
       "      <td>2009</td>\n",
       "      <td>9</td>\n",
       "    </tr>\n",
       "    <tr>\n",
       "      <th>2</th>\n",
       "      <td>I became privy to this book, when another auth...</td>\n",
       "      <td>0</td>\n",
       "      <td>1.299888e+09</td>\n",
       "      <td>9523995</td>\n",
       "      <td>[]</td>\n",
       "      <td>suz.haugland</td>\n",
       "      <td>4.0</td>\n",
       "      <td>Mar 12, 2011</td>\n",
       "      <td>77120</td>\n",
       "      <td>488429</td>\n",
       "      <td>2011-03-12</td>\n",
       "      <td>2011</td>\n",
       "      <td>3</td>\n",
       "    </tr>\n",
       "    <tr>\n",
       "      <th>3</th>\n",
       "      <td>.</td>\n",
       "      <td>0</td>\n",
       "      <td>1.327277e+09</td>\n",
       "      <td>368228</td>\n",
       "      <td>[]</td>\n",
       "      <td>amoskovacs</td>\n",
       "      <td>4.0</td>\n",
       "      <td>Jan 23, 2012</td>\n",
       "      <td>30288</td>\n",
       "      <td>297840</td>\n",
       "      <td>2012-01-23</td>\n",
       "      <td>2012</td>\n",
       "      <td>1</td>\n",
       "    </tr>\n",
       "    <tr>\n",
       "      <th>4</th>\n",
       "      <td>This is a tremendous story of a freed woman an...</td>\n",
       "      <td>0</td>\n",
       "      <td>1.329005e+09</td>\n",
       "      <td>11243828</td>\n",
       "      <td>[]</td>\n",
       "      <td>CandyH</td>\n",
       "      <td>4.0</td>\n",
       "      <td>Feb 12, 2012</td>\n",
       "      <td>4864</td>\n",
       "      <td>50288</td>\n",
       "      <td>2012-02-12</td>\n",
       "      <td>2012</td>\n",
       "      <td>2</td>\n",
       "    </tr>\n",
       "  </tbody>\n",
       "</table>\n",
       "</div>"
      ],
      "text/plain": [
       "                                             comment  nhelpful      unixtime  \\\n",
       "0  Every evening, the brave queen of Persia, Shah...         0  1.332288e+09   \n",
       "1  Its the 1983-84 school year and Edward Zanni o...         0  1.253405e+09   \n",
       "2  I became privy to this book, when another auth...         0  1.299888e+09   \n",
       "3                                              .             0  1.327277e+09   \n",
       "4  This is a tremendous story of a freed woman an...         0  1.329005e+09   \n",
       "\n",
       "       work flags              user  stars          time  user_encoded  \\\n",
       "0     73960    []  Elizabeth.Wong98    4.5  Mar 21, 2012          8341   \n",
       "1     69413    []            rivkat    3.0  Sep 20, 2009         71112   \n",
       "2   9523995    []      suz.haugland    4.0  Mar 12, 2011         77120   \n",
       "3    368228    []        amoskovacs    4.0  Jan 23, 2012         30288   \n",
       "4  11243828    []            CandyH    4.0  Feb 12, 2012          4864   \n",
       "\n",
       "   work_encoded review_date  year  month  \n",
       "0        417961  2012-03-21  2012      3  \n",
       "1        408855  2009-09-20  2009      9  \n",
       "2        488429  2011-03-12  2011      3  \n",
       "3        297840  2012-01-23  2012      1  \n",
       "4         50288  2012-02-12  2012      2  "
      ]
     },
     "execution_count": 29,
     "metadata": {},
     "output_type": "execute_result"
    }
   ],
   "source": [
    "reviews_df.head()"
   ]
  },
  {
   "cell_type": "code",
   "execution_count": 30,
   "id": "9f786412",
   "metadata": {
    "execution": {
     "iopub.execute_input": "2024-11-19T19:07:55.539756Z",
     "iopub.status.busy": "2024-11-19T19:07:55.539294Z",
     "iopub.status.idle": "2024-11-19T19:07:57.927501Z",
     "shell.execute_reply": "2024-11-19T19:07:57.926383Z"
    },
    "papermill": {
     "duration": 2.40085,
     "end_time": "2024-11-19T19:07:57.930353",
     "exception": false,
     "start_time": "2024-11-19T19:07:55.529503",
     "status": "completed"
    },
    "tags": []
   },
   "outputs": [],
   "source": [
    "from sklearn.model_selection import train_test_split\n",
    "\n",
    "# Splitting the data for collaborative filtering (using user-item interactions)\n",
    "X = reviews_df[['user_encoded', 'work_encoded', 'year', 'month']]\n",
    "y = reviews_df['stars']\n",
    "\n",
    "X_train, X_test, y_train, y_test = train_test_split(X, y, test_size=0.2, random_state=42)\n"
   ]
  },
  {
   "cell_type": "markdown",
   "id": "be08fe50",
   "metadata": {
    "papermill": {
     "duration": 0.009157,
     "end_time": "2024-11-19T19:07:57.954080",
     "exception": false,
     "start_time": "2024-11-19T19:07:57.944923",
     "status": "completed"
    },
    "tags": []
   },
   "source": [
    "# Collabarative Filtering"
   ]
  },
  {
   "cell_type": "code",
   "execution_count": 31,
   "id": "ce9e3769",
   "metadata": {
    "execution": {
     "iopub.execute_input": "2024-11-19T19:07:57.974378Z",
     "iopub.status.busy": "2024-11-19T19:07:57.973633Z",
     "iopub.status.idle": "2024-11-19T19:08:06.794163Z",
     "shell.execute_reply": "2024-11-19T19:08:06.793040Z"
    },
    "papermill": {
     "duration": 8.833138,
     "end_time": "2024-11-19T19:08:06.796390",
     "exception": false,
     "start_time": "2024-11-19T19:07:57.963252",
     "status": "completed"
    },
    "tags": []
   },
   "outputs": [
    {
     "name": "stdout",
     "output_type": "stream",
     "text": [
      "Requirement already satisfied: scikit-surprise in /opt/conda/lib/python3.10/site-packages (1.1.4)\r\n",
      "Requirement already satisfied: joblib>=1.2.0 in /opt/conda/lib/python3.10/site-packages (from scikit-surprise) (1.4.2)\r\n",
      "Requirement already satisfied: numpy>=1.19.5 in /opt/conda/lib/python3.10/site-packages (from scikit-surprise) (1.26.4)\r\n",
      "Requirement already satisfied: scipy>=1.6.0 in /opt/conda/lib/python3.10/site-packages (from scikit-surprise) (1.14.1)\r\n"
     ]
    }
   ],
   "source": [
    "!pip install scikit-surprise\n"
   ]
  },
  {
   "cell_type": "code",
   "execution_count": 32,
   "id": "7748679b",
   "metadata": {
    "execution": {
     "iopub.execute_input": "2024-11-19T19:08:06.817238Z",
     "iopub.status.busy": "2024-11-19T19:08:06.816921Z",
     "iopub.status.idle": "2024-11-19T19:08:06.870862Z",
     "shell.execute_reply": "2024-11-19T19:08:06.869972Z"
    },
    "papermill": {
     "duration": 0.06652,
     "end_time": "2024-11-19T19:08:06.872860",
     "exception": false,
     "start_time": "2024-11-19T19:08:06.806340",
     "status": "completed"
    },
    "tags": []
   },
   "outputs": [],
   "source": [
    "from surprise import SVD, Dataset, Reader\n",
    "from surprise.model_selection import train_test_split as surprise_train_test_split\n",
    "from surprise import accuracy"
   ]
  },
  {
   "cell_type": "code",
   "execution_count": 33,
   "id": "21e4f888",
   "metadata": {
    "execution": {
     "iopub.execute_input": "2024-11-19T19:08:06.893122Z",
     "iopub.status.busy": "2024-11-19T19:08:06.892428Z",
     "iopub.status.idle": "2024-11-19T19:08:45.035707Z",
     "shell.execute_reply": "2024-11-19T19:08:45.034759Z"
    },
    "papermill": {
     "duration": 38.163722,
     "end_time": "2024-11-19T19:08:45.045746",
     "exception": false,
     "start_time": "2024-11-19T19:08:06.882024",
     "status": "completed"
    },
    "tags": []
   },
   "outputs": [
    {
     "name": "stdout",
     "output_type": "stream",
     "text": [
      "RMSE: 0.8065\n",
      "RMSE of the collaborative filtering model: 0.8065\n"
     ]
    }
   ],
   "source": [
    "# Define the rating scale\n",
    "reader = Reader(rating_scale=(1, 5))\n",
    "\n",
    "# Prepare data for Surprise\n",
    "data = Dataset.load_from_df(reviews_df[['user_encoded', 'work_encoded', 'stars']], reader=reader)\n",
    "\n",
    "# Train-test split\n",
    "trainset, testset = surprise_train_test_split(data, test_size=0.2, random_state=42)\n",
    "\n",
    "# Use SVD model\n",
    "model = SVD()\n",
    "model.fit(trainset)\n",
    "\n",
    "# Predictions\n",
    "predictions = model.test(testset)\n",
    "\n",
    "# Evaluate the model\n",
    "rmse = accuracy.rmse(predictions)\n",
    "print(f\"RMSE of the collaborative filtering model: {rmse:.4f}\")"
   ]
  },
  {
   "cell_type": "code",
   "execution_count": null,
   "id": "0c2c5512",
   "metadata": {
    "papermill": {
     "duration": 0.008858,
     "end_time": "2024-11-19T19:08:45.063744",
     "exception": false,
     "start_time": "2024-11-19T19:08:45.054886",
     "status": "completed"
    },
    "tags": []
   },
   "outputs": [],
   "source": []
  }
 ],
 "metadata": {
  "kaggle": {
   "accelerator": "nvidiaTeslaT4",
   "dataSources": [
    {
     "datasetId": 3929037,
     "sourceId": 6833999,
     "sourceType": "datasetVersion"
    }
   ],
   "dockerImageVersionId": 30788,
   "isGpuEnabled": true,
   "isInternetEnabled": true,
   "language": "python",
   "sourceType": "notebook"
  },
  "kernelspec": {
   "display_name": "Python 3",
   "language": "python",
   "name": "python3"
  },
  "language_info": {
   "codemirror_mode": {
    "name": "ipython",
    "version": 3
   },
   "file_extension": ".py",
   "mimetype": "text/x-python",
   "name": "python",
   "nbconvert_exporter": "python",
   "pygments_lexer": "ipython3",
   "version": "3.10.14"
  },
  "papermill": {
   "default_parameters": {},
   "duration": 199.250286,
   "end_time": "2024-11-19T19:08:48.293538",
   "environment_variables": {},
   "exception": null,
   "input_path": "__notebook__.ipynb",
   "output_path": "__notebook__.ipynb",
   "parameters": {},
   "start_time": "2024-11-19T19:05:29.043252",
   "version": "2.6.0"
  }
 },
 "nbformat": 4,
 "nbformat_minor": 5
}
